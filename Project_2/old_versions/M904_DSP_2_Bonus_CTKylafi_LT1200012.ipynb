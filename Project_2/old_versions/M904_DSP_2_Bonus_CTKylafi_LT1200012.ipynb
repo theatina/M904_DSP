{
 "cells": [
  {
   "cell_type": "markdown",
   "metadata": {},
   "source": [
    "<font size=\"3\">\n",
    "<b>Bonus</b> άσκηση:\n",
    "<ol>\n",
    "    <li>Δημιουργήστε ένα τεχνητό σήμα, s1, διάρκειας ενός δευτερολέπτου που να είναι το άθροισμα 2 ημιτόνων (π.χ. 200Hz και 300Hz).\n",
    "    <li>Δημιουργήστε ένα δεύτερο τεχνητό σήμα, s2, με τις ίδιες συχνότητες με το s1, με τη φάση, όμως, της μίας από τις δύο συχνότητες διαφορετική. Ανάμεσα στις τιμές φάσης που μπορείτε να δοκιμάσετε, συμπεριλάβετε και την φάση π.\n",
    "    <li>Δημιουργήστε τα γραφήματα των παραπάνω σημάτων και ακούστε τα.\n",
    "    <li>Δημιουργήστε το γράφημα του μιξαρισμένου σήματος s = s1 + s2. Επίσης, ακούστε το μιξαρισμένο σήμα. Τι παρατηρείτε αν η φάση που μελετήσατε παραπάνω είναι π;\n",
    "</font>"
   ]
  },
  {
   "cell_type": "code",
   "execution_count": null,
   "metadata": {},
   "outputs": [],
   "source": []
  }
 ],
 "metadata": {
  "kernelspec": {
   "display_name": "Python 3",
   "language": "python",
   "name": "python3"
  },
  "language_info": {
   "codemirror_mode": {
    "name": "ipython",
    "version": 3
   },
   "file_extension": ".py",
   "mimetype": "text/x-python",
   "name": "python",
   "nbconvert_exporter": "python",
   "pygments_lexer": "ipython3",
   "version": "3.8.5"
  }
 },
 "nbformat": 4,
 "nbformat_minor": 4
}
